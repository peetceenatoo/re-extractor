{
  "cells": [
    {
      "cell_type": "markdown",
      "metadata": {},
      "source": [
        "# **INITIALIZATION**"
      ]
    },
    {
      "cell_type": "markdown",
      "metadata": {},
      "source": [
        "Set the lists."
      ]
    },
    {
      "cell_type": "code",
      "execution_count": 3,
      "metadata": {},
      "outputs": [],
      "source": [
        "# Init the matrix for our implementation\n",
        "automatic_REs = set(['hello', 'hi', 'bye'])\n",
        "# Init the matrix for the testset\n",
        "test_REs = set(['hello', 'bye'])"
      ]
    },
    {
      "cell_type": "markdown",
      "metadata": {},
      "source": [
        "And compute the indeces."
      ]
    },
    {
      "cell_type": "code",
      "execution_count": 4,
      "metadata": {},
      "outputs": [
        {
          "name": "stdout",
          "output_type": "stream",
          "text": [
            "Precision:  66.66666666666666 %\n",
            "Recall:  100.0 %\n",
            "F1 Score:  0.8\n"
          ]
        }
      ],
      "source": [
        "# Compute precision\n",
        "true_positives = len(automatic_REs & test_REs)  # Intersection gives true positives\n",
        "predicted_positives = len(automatic_REs)\n",
        "precision = true_positives / predicted_positives if predicted_positives > 0 else 0\n",
        "print(\"Precision: \", precision*100, \"%\")\n",
        "\n",
        "# Compute recall\n",
        "actual_positives = len(test_REs)\n",
        "recall = true_positives / actual_positives if actual_positives > 0 else 0\n",
        "print(\"Recall: \", recall*100, \"%\")\n",
        "\n",
        "# Compute F1 Score\n",
        "f1_score = 2 * (precision * recall) / (precision + recall) if (precision + recall) > 0 else 0\n",
        "print(\"F1 Score: \", f1_score)"
      ]
    }
  ],
  "metadata": {
    "accelerator": "GPU",
    "colab": {
      "collapsed_sections": [],
      "name": "project.ipynb",
      "provenance": []
    },
    "gpuClass": "standard",
    "kernelspec": {
      "display_name": "Python 3",
      "name": "python3"
    },
    "language_info": {
      "codemirror_mode": {
        "name": "ipython",
        "version": 3
      },
      "file_extension": ".py",
      "mimetype": "text/x-python",
      "name": "python",
      "nbconvert_exporter": "python",
      "pygments_lexer": "ipython3",
      "version": "3.10.2"
    }
  },
  "nbformat": 4,
  "nbformat_minor": 0
}
