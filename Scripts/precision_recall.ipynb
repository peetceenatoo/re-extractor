{
  "cells": [
    {
      "cell_type": "markdown",
      "metadata": {},
      "source": [
        "# **INITIALIZATION**"
      ]
    },
    {
      "cell_type": "markdown",
      "metadata": {},
      "source": [
        "Set the lists."
      ]
    },
    {
      "cell_type": "code",
      "execution_count": 7,
      "metadata": {},
      "outputs": [
        {
          "name": "stdout",
          "output_type": "stream",
          "text": [
            "38\n",
            "43\n"
          ]
        }
      ],
      "source": [
        "# Init the matrix for our implementation\n",
        "# Remember to comment the line of automatic_REs that you don't want to run. First line is for SCP, second line is for MI\n",
        "\n",
        "## files: 2770, 812, 1173, 1635, 3671\n",
        "\n",
        "automatic_REs = set(['metamaterials', 'constitutive', 'transformation', 'coordinate', 'parameters', 'constitutive parameters', 'electromagnetic radiation', 'san martíñ','depressive', 'bipolar', 'depression', 'chakravarthy', 'disorder', 'bipolar disorder', 'depression and bipolar', 'advisory board','regulatory', 'nuclear', 'pakistan', 'authority', 'chairmanship', 'pakistan nuclear regulatory', 'route 66','syndesmosis', 'tightrope', 'fixation', 'screw', 'articulation', 'tightrope fixation', 'physical characteristics', 'torn apart','transport', 'dresden', 'specification', 'without', 'translates', 'schools motto', 'surrounding areas']) #SCP\n",
        "\n",
        "#automatic_REs = set(['metamaterials', 'constitutive', 'transformation', 'coordinate', 'parameters', 'constitutive parameters', 'electromagnetic radiation', 'san martã­n','depressive', 'bipolar', 'depression', 'chakravarthy', 'disorder', 'bipolar disorder', 'depression and bipolar','regulatory', 'nuclear', 'pakistan', 'authority', 'chairmanship', 'pakistan nuclear regulatory','syndesmosis', 'tightrope', 'fixation', 'screw', 'articulation', 'tightrope fixation', 'physical characteristics','transport', 'dresden', 'specification', 'without', 'translates', 'schools motto', 'surrounding areas']) #MI\n",
        "\n",
        "# Init the matrix for the testset\n",
        "test_REs = set(['metamaterials', 'constitutive', 'transformation', 'coordinate','coordinate transformation' 'parameters', 'constitutive parameters', 'electromagnetic radiation', 'permittivity','permeability','depressive', 'bipolar', 'depression', 'dbsa','music', 'disorder', 'bipolar disorder', 'depression and bipolar','regulatory', 'nuclear', 'pakistan', 'authority', 'pnra', 'pakistan nuclear regulatory', 'route 66','syndesmosis', 'tightrope', 'fixation','movement','joint','bones', 'screw', 'articulation', 'tightrope fixation', 'physical characteristics','transport', 'dresden', 'specification', 'germany',  'schools motto', 'surrounding areas', 'learning','understanding','municipal'])\n",
        "\n",
        "print(len(automatic_REs))\n",
        "print(len(test_REs))"
      ]
    },
    {
      "cell_type": "markdown",
      "metadata": {},
      "source": [
        "And compute the indeces."
      ]
    },
    {
      "cell_type": "code",
      "execution_count": 4,
      "metadata": {},
      "outputs": [
        {
          "name": "stdout",
          "output_type": "stream",
          "text": [
            "Precision:  82.85714285714286 %\n",
            "Recall:  67.44186046511628 %\n",
            "F1 Score:  0.7435897435897435\n"
          ]
        }
      ],
      "source": [
        "# Compute precision\n",
        "true_positives = len(automatic_REs & test_REs)  # Intersection gives true positives\n",
        "predicted_positives = len(automatic_REs)\n",
        "precision = true_positives / predicted_positives if predicted_positives > 0 else 0\n",
        "print(\"Precision: \", precision*100, \"%\")\n",
        "\n",
        "# Compute recall\n",
        "actual_positives = len(test_REs)\n",
        "recall = true_positives / actual_positives if actual_positives > 0 else 0\n",
        "print(\"Recall: \", recall*100, \"%\")\n",
        "\n",
        "# Compute F1 Score\n",
        "f1_score = 2 * (precision * recall) / (precision + recall) if (precision + recall) > 0 else 0\n",
        "print(\"F1 Score: \", f1_score)"
      ]
    }
  ],
  "metadata": {
    "accelerator": "GPU",
    "colab": {
      "collapsed_sections": [],
      "name": "project.ipynb",
      "provenance": []
    },
    "gpuClass": "standard",
    "kernelspec": {
      "display_name": "Python 3",
      "name": "python3"
    },
    "language_info": {
      "codemirror_mode": {
        "name": "ipython",
        "version": 3
      },
      "file_extension": ".py",
      "mimetype": "text/x-python",
      "name": "python",
      "nbconvert_exporter": "python",
      "pygments_lexer": "ipython3",
      "version": "3.12.3"
    }
  },
  "nbformat": 4,
  "nbformat_minor": 0
}
