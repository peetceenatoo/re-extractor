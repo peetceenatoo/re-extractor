{
  "cells": [
    {
      "cell_type": "markdown",
      "metadata": {},
      "source": [
        "# **INITIALIZATION**"
      ]
    },
    {
      "cell_type": "markdown",
      "metadata": {},
      "source": [
        "Import libraries."
      ]
    },
    {
      "cell_type": "code",
      "execution_count": 12,
      "metadata": {
        "id": "GuTl2RIXgsQA"
      },
      "outputs": [],
      "source": [
        "# Library for reading and writing data to and from files\n",
        "import os\n",
        "# Library for numerical computing\n",
        "import numpy as np\n",
        "# Library for mathematical functions\n",
        "import math\n",
        "# Library for getting dictionaries from data structures\n",
        "from collections import defaultdict\n",
        "# Library to get fit models\n",
        "from scipy.optimize import curve_fit\n",
        "# Library to plot histograms\n",
        "import matplotlib.pyplot as plt"
      ]
    },
    {
      "cell_type": "markdown",
      "metadata": {},
      "source": [
        "Define paths."
      ]
    },
    {
      "cell_type": "code",
      "execution_count": 13,
      "metadata": {
        "id": "Z5sOc92TgsLE"
      },
      "outputs": [],
      "source": [
        "# Dataset directory\n",
        "corpus_directory='../Dataset/corpus2mw'"
      ]
    },
    {
      "cell_type": "markdown",
      "metadata": {},
      "source": [
        "To iterate the reading procedure, get the names of the documents in the dataset."
      ]
    },
    {
      "cell_type": "code",
      "execution_count": 14,
      "metadata": {},
      "outputs": [],
      "source": [
        "# Get a list with the names of the documents\n",
        "texts_names = os.listdir(corpus_directory)"
      ]
    },
    {
      "cell_type": "markdown",
      "metadata": {},
      "source": [
        "Set the seed for reproducibility."
      ]
    },
    {
      "cell_type": "code",
      "execution_count": 15,
      "metadata": {},
      "outputs": [],
      "source": [
        "np.random.seed(55555555)"
      ]
    },
    {
      "cell_type": "markdown",
      "metadata": {},
      "source": [
        "# **GET TOKENS**"
      ]
    },
    {
      "cell_type": "markdown",
      "metadata": {},
      "source": [
        "First, define the special characters to be separated from each word."
      ]
    },
    {
      "cell_type": "code",
      "execution_count": 16,
      "metadata": {
        "id": "HZYLcWMUgsNo"
      },
      "outputs": [],
      "source": [
        "# List of characters\n",
        "specialchars = [';', ':', '!', '?', '<', '>', '&', ')', '(', ']', '[', ',', '.', '\"', '%', '$ ', '=', '}', '{', '-', '_', '+', '*', '#', '@']"
      ]
    },
    {
      "cell_type": "markdown",
      "metadata": {},
      "source": [
        "And define the function which separates the special characters from each word, assuming they can only be before or after each word."
      ]
    },
    {
      "cell_type": "code",
      "execution_count": 17,
      "metadata": {
        "id": "mvTiLGhygsIh"
      },
      "outputs": [],
      "source": [
        "def token(w):\n",
        "    # Init the empty list of tokens\n",
        "    res = []\n",
        "\n",
        "    # If the length is 1, add the character whatever it is\n",
        "    if len(w) == 1:\n",
        "        res.append(w)\n",
        "    \n",
        "    # Otherwise (if it's at least two characters)\n",
        "    else:\n",
        "        # If the first character is special, add it to the list and remove it from the word\n",
        "        if w[0] in specialchars:\n",
        "            res.append(w[0])\n",
        "            w = w[1:]\n",
        "        \n",
        "        # Now, if the length became 1 because of that, for the same reason as before, add the character whatever it is\n",
        "        if len(w) == 1:\n",
        "            res.append(w)\n",
        "        # Otherwise (if it's at least two characters), both if I had removed the first or not\n",
        "        # Check whether the last character is special\n",
        "        elif w[-1] in specialchars:\n",
        "            res.append(w[:-1])\n",
        "            res.append(w[-1])\n",
        "        # or not\n",
        "        else:\n",
        "            res.append(w)\n",
        "        \n",
        "    # Return the list of tokens\n",
        "    return res"
      ]
    },
    {
      "cell_type": "markdown",
      "metadata": {},
      "source": [
        "For each document, for each word (in each line), if either the last or the first character are specialchars, then split in multiple tokens."
      ]
    },
    {
      "cell_type": "code",
      "execution_count": 18,
      "metadata": {},
      "outputs": [],
      "source": [
        "corpus = []\n",
        "corpus_lens = []\n",
        "\n",
        "# For each document in the directory\n",
        "for text in texts_names:\n",
        "\n",
        "    # Init a temp empty list for the words in the current document\n",
        "    words = []\n",
        "\n",
        "    # Open the document\n",
        "    with open(corpus_directory + '/' + text, 'r', errors='ignore') as file:\n",
        "\n",
        "        # For each line\n",
        "        for line in file:\n",
        "            # For each word in the line\n",
        "            for word in line.split():\n",
        "                # Tokenize it\n",
        "                aux = token(word)\n",
        "                # And add each token to the list of words\n",
        "                for t in aux:\n",
        "                    words.append(t.lower())\n",
        "    # Then append the list of tokens for the document in the corpus list\n",
        "    corpus.append(words)\n",
        "    corpus_lens.append(len(words))\n",
        "\n",
        "corpus_len = len(corpus)"
      ]
    },
    {
      "cell_type": "markdown",
      "metadata": {},
      "source": [
        "This way, the corpus is a list of documents, which are lists of tokens."
      ]
    },
    {
      "cell_type": "code",
      "execution_count": 19,
      "metadata": {
        "colab": {
          "base_uri": "https://localhost:8080/"
        },
        "id": "2DfPdppoOYO7",
        "outputId": "948487ce-c872-4b4c-fce7-97fd93d5f5bd"
      },
      "outputs": [
        {
          "name": "stdout",
          "output_type": "stream",
          "text": [
            "[5955, 2028, 312, 680, 351, 2773, 1253, 286, 856, 510, 442, 1484, 445, 1246, 341, 619, 823, 529, 620, 749, 1145, 1014, 214, 165, 354, 524, 391, 1343, 289, 1228, 452, 225, 160, 374, 722, 1275, 846, 464, 748, 213, 155, 494, 246, 956, 402, 1482, 795, 510, 364, 1355, 154, 200, 1492, 233, 3206, 261, 619, 218, 910, 417, 657, 762, 219, 1305, 412, 929, 343, 314, 1676, 1315, 284, 1211, 1638, 769, 888, 1272, 1118, 456, 1541, 215, 404, 175, 414, 1056, 772, 919, 860, 1215, 753, 249, 4310, 139, 197, 256, 163, 290, 659, 1920, 548, 881, 1722, 333, 292, 2153, 233, 1501, 731, 268, 259, 1166, 401, 1044, 1540, 355, 3404, 498, 247, 818, 3268, 733, 373, 178, 704, 685, 1547, 280, 343, 206, 364, 2181, 643, 480, 783, 232, 619, 130, 194, 615, 559, 760, 417, 305, 252, 836, 176, 1402, 519, 706, 1233, 675, 489, 276, 202, 550, 163, 755, 4634, 277, 251, 355, 260, 442, 822, 338, 1857, 1677, 250, 584, 310, 472, 643, 723, 499, 229, 218, 194, 224, 180, 178, 334, 293, 462, 522, 245, 244, 137, 431, 566, 1371, 679, 426, 4480, 525, 498, 706, 399, 1537, 187, 6938, 380, 1055, 725, 449, 177, 331, 614, 580, 224, 838, 1056, 332, 494, 285, 320, 264, 1277, 395, 435, 143, 1415, 1262, 1143, 149, 726, 1906, 187, 1060, 658, 346, 848, 1712, 356, 283, 653, 413, 392, 212, 188, 320, 675, 243, 1615, 381, 992, 621, 357, 334, 509, 595, 369, 1596, 1797, 758, 1532, 898, 491, 517, 286, 468, 1444, 1172, 2515, 410, 1099, 1369, 605, 679, 525, 235, 507, 1367, 2406, 707, 329, 316, 404, 434, 308, 316, 1396, 1778, 307, 588, 700, 710, 328, 436, 722, 1170, 583, 211, 709, 251, 667, 397, 3834, 787, 746, 851, 249, 3036, 1000, 255, 258, 194, 722, 968, 1480, 354, 1273, 329, 317, 977, 418, 1061, 207, 198, 363, 853, 1036, 667, 759, 1362, 316, 896, 1940, 599, 737, 727, 931, 876, 489, 1859, 429, 361, 356, 157, 742, 573, 1021, 161, 753, 197, 354, 1050, 340, 409, 1113, 495, 335, 1085, 553, 3311, 251, 731, 1091, 271, 1201, 221, 752, 468, 284, 246, 1319, 2303, 862, 477, 306, 738, 2994, 151, 190, 961, 1462, 1091, 693, 709, 263, 666, 1057, 349, 207, 312, 1991, 1558, 506, 301, 307, 320, 1362, 363, 297, 589, 1280, 461, 256, 528, 170, 372, 1226, 411, 245, 799, 288, 161, 333, 298, 170, 1313, 529, 209, 836, 144, 843, 295, 2359, 160, 287, 454, 5202, 597, 668, 486, 1308, 246, 457, 255, 1025, 512, 211, 1043, 1022, 544, 217, 482, 388, 345, 786, 252, 423, 389, 208, 499, 190, 1133, 338, 961, 355, 505, 489, 239, 553, 434, 457, 1692, 1328, 241, 1497, 1328, 125, 271, 693, 1438, 678, 245, 1322, 1548, 349, 478, 239, 223, 707, 770, 319, 1003, 721, 612, 465, 371, 477, 883, 329, 466, 456, 644, 398, 297, 600, 5254, 566, 233, 239, 1137, 594, 234, 1351, 934, 690, 470, 240, 424, 238, 1396, 841, 183, 324, 415, 356, 601, 617, 833, 496, 164, 576, 821, 605, 644, 258, 1477, 661, 361, 212, 331, 977, 373, 178, 247, 541, 411, 280, 370, 614, 437, 2208, 531, 572, 679, 309, 587, 174, 214, 238, 760, 527, 579, 753, 543, 195, 1265, 1577, 488, 926, 154, 320, 1302, 486, 478, 411, 693, 202, 710, 1052, 494, 2580, 917, 246, 1445, 1355, 234, 203, 370, 700, 1975, 603, 479, 270, 366, 168, 874, 325, 629, 344, 300, 286, 1353, 302, 352, 195, 212, 973, 2802, 777, 162, 671, 155, 356, 251, 671, 995, 2088, 1481, 227, 475, 361, 286, 364, 518, 345, 771, 820, 446, 991, 394, 1424, 220, 1962, 1972, 146, 321, 566, 2278, 1175, 886, 667, 891, 289, 4358, 1075, 315, 816, 408, 245, 459, 664, 2148, 856, 1712, 1876, 324, 1303, 527, 304, 176, 365, 163, 510, 156, 501, 535, 840, 249, 1276, 364, 308, 340, 484, 276, 922, 338, 190, 198, 2536, 670, 1022, 449, 528, 167, 1072, 243, 243, 351, 182, 651, 1408, 363, 244, 358, 422, 523, 652, 400, 260, 681, 389, 332, 1089, 302, 642, 583, 201, 1027, 1363, 259, 1027, 312, 155, 504, 557, 344, 1390, 209, 1053, 375, 395, 1506, 605, 162, 1036, 512, 141, 202, 761, 246, 1628, 153, 704, 577, 378, 710, 593, 2211, 659, 334, 260, 983, 1872, 1431, 169, 198, 1722, 694, 163, 252, 734, 467, 786, 185, 873, 1453, 425, 197, 556, 754, 434, 242, 348, 199, 1394, 896, 391, 237, 376, 347, 523, 381, 212, 1189, 466, 484, 356, 313, 191, 654, 827, 269, 241, 886, 219, 289, 422, 275, 221, 819, 280, 132, 396, 738, 140, 415, 375, 900, 223, 707, 234, 280, 470, 394, 667, 474, 5374, 349, 313, 174, 211, 634, 3379, 502, 579, 614, 1139, 629, 142, 1992, 276, 164, 952, 840, 594, 358, 422, 375, 295, 403, 318, 738, 386, 6151, 144, 176, 282, 743, 165, 195, 527, 512, 800, 438, 947, 202, 1531, 1005, 548, 969, 300, 571, 557, 369, 1576, 723, 216, 791, 299, 987, 208, 691, 312, 183, 262, 491, 952, 198, 418, 329, 530, 362, 633, 540, 1233, 135, 387, 361, 1639, 512, 293, 789, 524, 262, 202, 6538, 728, 451, 229, 177, 706, 294, 1091, 549, 1265, 449, 249, 175, 1606, 1486, 209, 334, 281, 1044, 940, 411, 470, 1343, 486, 419, 609, 603, 2745, 355, 161, 752, 659, 205, 1735, 4406, 1893, 654, 292, 191, 161, 274, 680, 362, 182, 391, 295, 928, 564, 166, 295, 306, 740, 167, 453, 2297, 152, 652, 602, 587, 749, 170, 1184, 273, 505, 279, 205, 221, 457, 441, 417, 1613, 563, 273, 214, 241, 272, 424, 190, 155, 445, 289, 188, 691, 2331, 270, 721, 337, 480, 286, 694, 761, 674, 438, 2148, 1547, 278, 219, 409, 644, 482, 479, 5557, 1905, 283, 1198, 898, 200, 1936, 259, 325, 372, 3557, 222, 576, 296, 348, 409, 428, 175, 2042, 294, 215, 313, 871, 578, 507, 382, 320, 253, 619, 687, 378, 266, 920, 4208, 583, 184, 613, 257, 594, 535, 244, 442, 959, 319, 149, 530, 679, 203, 621, 196, 147, 2134, 714, 1071, 348, 665, 573, 1776, 724, 1433, 403, 966, 546, 472, 160, 717, 589, 814, 236, 511, 543, 1462, 250, 834, 656, 139, 204, 392, 418, 201, 192, 817, 431, 212, 512, 309, 437, 380, 162, 681, 427, 217, 411, 697, 2754, 403, 266, 1587, 244, 724, 514, 362, 293, 735, 644, 293, 562, 889, 240, 215, 234, 280, 387, 391, 161, 9592, 641, 290, 498, 223, 356, 299, 605, 206, 182, 423, 220, 3740, 996, 202, 860, 193, 290, 2755, 246, 580, 199, 176, 220, 229, 740, 162, 216, 4098, 1541, 492, 627, 1690, 351, 1135, 287, 1130, 1486, 197, 4301, 256, 188, 413, 987, 149, 251, 311, 1534, 563, 248, 261, 763, 441, 181, 578, 219, 201, 255, 146, 158, 743, 332, 688, 270, 326, 633, 859, 1561, 307, 297, 355, 192, 148, 525, 448, 316, 398, 1312, 289, 191, 291, 2204, 535, 213, 373, 555, 832, 519, 449, 482, 197, 363, 178, 883, 201, 570, 339, 171, 175, 329, 1325, 198, 189, 152, 132, 518, 302, 315, 1025, 667, 126, 703, 2298, 243, 263, 394, 909, 262, 1785, 207, 429, 789, 669, 3493, 912, 2308, 306, 355, 391, 1135, 179, 559, 705, 902, 1558, 1488, 263, 699, 196, 1614, 179, 518, 858, 2787, 236, 1548, 175, 2872, 682, 298, 349, 633, 266, 600, 730, 641, 325, 199, 1693, 223, 232, 330, 854, 416, 203, 1043, 194, 144, 1408, 228, 656, 365, 441, 490, 1788, 435, 380, 329, 355, 211, 1056, 912, 494, 148, 173, 663, 357, 952, 185, 1969, 951, 3237, 196, 634, 531, 1237, 140, 400, 1688, 194, 794, 1197, 1110, 1775, 1144, 411, 529, 151, 794, 611, 1179, 163, 291, 376, 753, 1424, 549, 816, 507, 416, 284, 723, 1008, 574, 824, 362, 1217, 436, 362, 312, 253, 483, 134, 264, 336, 1024, 222, 1608, 681, 993, 236, 194, 595, 321, 547, 206, 357, 298, 570, 304, 325, 663, 532, 1320, 141, 871, 739, 268, 418, 1100, 153, 4814, 3462, 324, 322, 508, 419, 353, 451, 857, 593, 1101, 529, 268, 316, 277, 140, 417, 615, 427, 1665, 317, 271, 174, 359, 246, 241, 187, 196, 136, 451, 462, 826, 192, 625, 950, 1234, 230, 1649, 181, 560, 411, 240, 630, 901, 1048, 607, 247, 421, 351, 623, 777, 1016, 328, 303, 1251, 1430, 946, 185, 1092, 1056, 154, 471, 254, 500, 278, 171, 475, 267, 189, 486, 154, 870, 372, 834, 167, 713, 351, 380, 408, 257, 692, 490, 450, 319, 216, 770, 293, 189, 866, 465, 133, 430, 308, 757, 235, 550, 162, 202, 476, 136, 184, 180, 1272, 173, 363, 262, 1177, 513, 225, 168, 428, 448, 553, 465, 376, 548, 484, 199, 287, 847, 995, 1029, 355, 354, 389, 1738, 456, 327, 456, 1126, 210, 319, 1020, 380, 610, 1362, 217, 339, 1381, 1378, 353, 203, 584, 209, 184, 953, 190, 890, 612, 379, 507, 471, 215, 609, 553, 377, 305, 945, 373, 1317, 193, 176, 161, 355, 1765, 645, 387, 277, 773, 510, 933, 670, 164, 747, 749, 164, 915, 283, 819, 202, 470, 382, 237, 1722, 157, 252, 262, 231, 752, 413, 338, 792, 305, 684, 454, 912, 648, 188, 413, 645, 546, 602, 486, 375, 3064, 848, 221, 272, 382, 251, 253, 1860, 166, 1370, 339, 269, 653, 1000, 776, 172, 427, 1046, 629, 227, 282, 227, 488, 341, 171, 434, 415, 898, 364, 163, 1132, 218, 521, 630, 1619, 220, 273, 408, 308, 246, 514, 657, 390, 768, 535, 365, 742, 504, 136, 371, 620, 277, 1448, 434, 475, 333, 232, 1722, 715, 475, 2843, 632, 827, 830, 295, 168, 1314, 997, 682, 261, 1453, 315, 134, 536, 327, 1212, 958, 133, 835, 791, 1195, 953, 308, 184, 911, 249, 295, 237, 162, 328, 590, 643, 207, 852, 267, 506, 204, 449, 473, 135, 217, 182, 592, 166, 149, 1869, 426, 190, 4216, 944, 560, 548, 221, 1492, 525, 444, 730, 163, 846, 557, 393, 458, 1258, 707, 508, 221, 515, 497, 244, 1006, 256, 414, 268, 241, 475, 1260, 233, 481, 612, 158, 237, 1761, 337, 199, 217, 235, 457, 1651, 334, 424, 157, 142, 1004, 326, 401, 266, 905, 491, 669, 235, 281, 526, 362, 336, 294, 159, 1609, 216, 504, 1055, 1108, 233, 812, 436, 364, 1128, 152, 266, 3030, 2593, 180, 544, 401, 303, 599, 3368, 185, 239, 751, 896, 377, 376, 169, 629, 150, 319, 948, 211, 153, 430, 900, 190, 494, 157, 179, 442, 659, 155, 238, 2493, 1169, 1079, 170, 560, 225, 1084, 839, 223, 335, 192, 1223, 206, 215, 124, 958, 1290, 339, 568, 1657, 448, 326, 744, 454, 178, 691, 339, 1091, 167, 168, 246, 611, 288, 298, 249, 183, 518, 208, 538, 1455, 289, 792, 1387, 430, 353, 821, 480, 225, 232, 316, 402, 1061, 317, 2117, 662, 733, 139, 240, 168, 312, 336, 1321, 375, 174, 255, 196, 494, 316, 204, 1287, 567, 253, 220, 263, 393, 342, 197, 528, 371, 462, 483, 188, 410, 371, 214, 1974, 145, 692, 600, 212, 266, 415, 1125, 175, 229, 181, 774, 252, 238, 442, 341, 327, 285, 224, 211, 299, 245, 763, 2008, 205, 355, 1264, 296, 660, 1390, 265, 408, 528, 503, 232, 1200, 559, 868, 494, 1203, 984, 612, 931, 191, 233, 192, 231, 521, 142, 336, 787, 585, 223, 1329, 296, 212, 214, 1092, 251, 401, 146, 1124, 408, 138, 1724, 290, 270, 259, 155, 141, 647, 488, 485, 1321, 619, 292, 1213, 552, 376, 1233, 831, 286, 372, 660, 972, 2453, 2056, 290, 1428, 493, 304, 308, 1076, 1112, 324, 740, 1348, 233, 469, 439, 262, 414, 1734, 713, 169, 635, 539, 454, 760, 297, 1068, 248, 3193, 471, 908, 797, 816, 293, 394, 432, 203, 732, 3182, 170, 564, 479, 483, 436, 1460, 158, 868, 312, 338, 404, 548, 876, 751, 270, 200, 251, 902, 609, 425, 1255, 477, 548, 574, 756, 822, 596, 1385, 317, 451, 197, 1832, 187, 872, 684, 796, 766, 344, 1460, 210, 1736, 176, 258, 174, 1211, 875, 752, 314, 280, 212, 1064, 729, 342, 218, 762, 149, 142, 144, 292, 144, 901, 173, 249, 363, 402, 1556, 255, 475, 216, 311, 440, 315, 384, 620, 1217, 1379, 182, 244, 557, 1088, 342, 346, 3124, 756, 498, 261, 906, 176, 770, 1076, 409, 401, 151, 281, 758, 1336, 359, 463, 1156, 239, 178, 701, 221, 486, 174, 165, 270, 770, 1203, 222, 329, 2030, 370, 282, 168, 524, 724, 772, 338, 440, 447, 363, 151, 865, 386, 339, 433, 295, 436, 845, 288, 675, 307, 427, 435, 315, 331, 518, 176, 514, 155, 524, 147, 780, 186, 833, 481, 594, 402, 172, 410, 443, 150, 427, 1568, 213, 295, 817, 282, 256, 322, 358, 888, 377, 310, 436, 344, 377, 208, 781, 207, 3249, 1295, 142, 191, 355, 319, 157, 158, 410, 763, 202, 179, 246, 514, 572, 326, 730, 710, 860, 313, 3254, 605, 210, 296, 795, 555, 882, 261, 611, 1652, 1726, 697, 542, 197, 272, 154, 165, 805, 457, 177, 264, 193, 299, 199, 401, 220, 203, 265, 701, 582, 280, 192, 343, 773, 320, 1717, 169, 613, 166, 567, 690, 270, 156, 458, 781, 404, 150, 549, 628, 341, 165, 1044, 160, 549, 879, 218, 1406, 1454, 1830, 3225, 151, 1156, 326, 523, 833, 1968, 251, 395, 454, 506, 976, 139, 460, 575, 1415, 214, 254, 968, 362, 195, 143, 948, 165, 159, 1521, 228, 703, 717, 835, 350, 745, 408, 366, 358, 427, 634, 387, 203, 410, 242, 590, 205, 439, 744, 246, 237, 601, 812, 255, 1266, 470, 176, 230, 843, 202, 929, 530, 285, 310, 176, 178, 432, 1455, 164, 277, 177, 307, 320, 544, 375, 204, 188, 484, 484, 280, 248, 313, 350, 334, 271, 744, 657, 220, 135, 982, 436, 301, 179, 727, 145, 160, 1058, 207, 657, 518, 327, 191, 347, 175, 460, 433, 232, 206, 225, 227, 142, 661, 499, 299, 827, 840, 258, 356, 137, 226, 140, 200, 485, 638, 591, 641, 1219, 216, 471, 495, 1122, 459, 848, 380, 412, 491, 159, 1147, 227, 257, 712, 180, 290, 237, 2072, 527, 354, 1565, 255, 416, 287, 266, 857, 917, 318, 669, 478, 1212, 136, 256, 170, 585, 564, 1619, 814, 313, 316, 296, 1017, 480, 328, 144, 496, 194, 484, 172, 483, 201, 238, 421, 295, 381, 520, 526, 353, 229, 750, 545, 638, 1515, 474, 286, 350, 293, 444, 324, 322, 167, 315, 654, 828, 333, 602, 194, 141, 294, 372, 661, 396, 392, 525, 736, 130, 159, 459, 280, 680, 898, 344, 531, 348, 884, 228, 405, 296, 565, 365, 839, 533, 395, 189, 218, 252, 326, 264, 202, 678, 232, 833, 194, 504, 602, 943, 199, 1365, 473, 563, 397, 140, 477, 585, 708, 915, 1336, 747, 284, 1864, 771, 277, 447, 315, 265, 564, 172, 175, 150, 230, 155, 743, 606, 2194, 1079, 293, 538, 515, 337, 559, 392, 201, 599, 229, 789, 496, 579, 253, 365, 670, 397, 1367, 391, 193, 1054, 421, 273, 204, 415, 266, 2680, 1949, 343, 161, 1729, 237, 348, 195, 801, 448, 1067, 380, 841, 312, 235, 544, 197, 271, 825, 745, 399, 299, 348, 764, 336, 489, 179, 156, 341, 331, 906, 221, 1048, 640, 242, 784, 170, 1280, 645, 269, 835, 176, 749, 152, 175, 322, 1062, 244, 689, 165, 193, 3481, 2794, 177, 677, 136, 252, 171, 158, 183, 435, 367, 455, 320, 282, 138, 215, 272, 297, 1185, 850, 325, 333, 194, 496, 395, 500, 248, 433, 464, 769, 153, 199, 142, 478, 231, 727, 288, 239, 711, 537, 649, 237, 344, 274, 494, 1558, 644, 350, 296, 353, 429, 1449, 623, 190, 255, 413, 187, 431, 317, 142, 269, 167, 219, 246, 440, 335, 336, 145, 647, 910, 170, 191, 219, 172, 684, 198, 1473, 198, 351, 156, 961, 398, 827, 1015, 270, 650, 185, 207, 532, 206, 193, 326, 167, 590, 164, 1183, 1181, 324, 450, 228, 177, 226, 428, 305, 470, 666, 246, 484, 229, 452, 251, 504, 203, 248, 333, 573, 654, 383, 316, 208, 497, 405, 803, 698, 154, 217, 330, 572, 454, 320, 574, 245, 327, 391, 240, 160, 172, 307, 259, 448, 306, 732, 383, 269, 673, 194, 336, 402, 187, 865, 309, 243, 1160, 529, 246, 223, 749, 902, 294, 322, 1903, 921, 605, 1102, 188, 281, 271, 332, 480, 350, 158, 312, 347, 312, 572, 936, 141, 479, 933, 207, 408, 186, 331, 182, 169, 645, 315, 161, 164, 194, 161, 227, 251, 265, 348, 757, 1102, 163, 228, 2100, 144, 993, 254, 158, 819, 469, 563, 232, 239, 651, 663, 186, 277, 194, 156, 1768, 828, 238, 181, 145, 1473, 172, 992, 408, 763, 949, 1204, 1602, 207, 285, 456, 2618, 3248, 1038, 2242, 439, 179, 1746, 196, 480, 1100, 172, 1905, 2301, 294, 560, 282, 353, 210, 288, 267, 949, 401, 981, 248, 308, 527, 350, 336, 693, 647, 625, 529, 1214, 155, 450, 161, 640, 2123, 254, 1238, 1432, 385, 242, 185, 419, 668, 496, 979, 1486, 619, 794, 1140, 1250, 198, 1352, 1000, 1037, 1346, 410, 1178, 227, 359, 262, 965, 288, 2551, 794, 468, 2172, 287, 1456, 772, 590, 338, 683, 706, 1791, 1418, 523, 921, 1694, 428, 1158, 2610, 2313, 447, 1401, 291, 300, 429, 253, 514, 171, 227, 708, 748, 1257, 1091, 313, 688, 1403, 640, 153, 326, 288, 2432, 1020, 753, 382, 263, 711, 865, 470, 691, 1456, 319, 319, 1912, 618, 424, 1017, 729, 1043, 254, 675, 392, 654, 1728, 421, 1663, 324, 1345, 730, 449, 387, 1176, 682, 1126, 429, 331, 595, 360, 436, 1617, 1553, 2085, 214, 514, 200, 923, 240, 180, 261, 1573, 826, 358, 765, 2045, 502, 243, 390, 493, 398, 296, 335, 273, 308, 315, 646, 204, 1456, 950, 337, 554, 309, 2711, 641, 483, 281, 535, 305, 298, 283, 182, 926, 644, 964, 243, 694, 1973, 1749, 1000, 1431, 295, 421, 1445, 1641, 971, 641, 205, 738, 374, 195, 332, 2253, 324, 147, 307, 432, 525, 1309, 874, 1043, 724, 344, 4379, 638, 303, 2320, 467, 452, 281, 822, 386, 213, 284, 724, 326, 130, 259, 302, 191, 607, 3156, 1668, 610, 196, 668, 912, 1336, 736, 859, 3966, 2543, 909, 506, 510, 988, 1253, 227, 247, 238, 905, 889, 441, 218, 804, 1186, 438, 273, 360, 331, 1122, 238, 151, 535, 469, 835, 374, 168, 235, 371, 2304, 759, 732, 327, 299, 1037, 185, 161, 140, 235, 928, 657, 644, 1109, 543, 275, 221, 160, 1214, 310, 615, 180, 154, 658, 195, 879, 409, 499, 219, 3556, 153, 1703, 1107, 826, 285, 206, 662, 465, 961, 985, 953, 517, 726, 1123, 182, 1559, 2331, 831, 597, 183, 880, 344, 419, 1333, 355, 285, 147, 477, 709, 685, 152, 154, 1489, 391, 281, 154, 261, 349, 1408, 171, 193, 336, 1242, 707, 574, 304, 447, 1447, 1506, 361, 2973, 1281, 1064, 305, 163, 364, 322, 536, 404, 155, 1972, 728, 497, 234, 243, 423, 1409, 526, 1117, 2242, 739, 472, 523, 852, 477, 800, 239]\n",
            "There are  2026517  words in the corpus\n"
          ]
        }
      ],
      "source": [
        "# Print length for each document\n",
        "print(corpus_lens)\n",
        "# And compute the overall number of words\n",
        "num_of_words_in_corpus = sum(corpus_lens)\n",
        "print(\"There are \", num_of_words_in_corpus, \" words in the corpus\")"
      ]
    },
    {
      "cell_type": "markdown",
      "metadata": {},
      "source": [
        "Define a function to get a list of words from a string with words separated with a space."
      ]
    },
    {
      "cell_type": "code",
      "execution_count": 20,
      "metadata": {
        "id": "l88ONep-gr5i"
      },
      "outputs": [],
      "source": [
        "# Given a list of strings, it returns a string\n",
        "# in which the substrings will be separated by ' '\n",
        "def list_to_str(strings):\n",
        "    # Init res as an empty string\n",
        "    res = \"\"\n",
        "    # For each character/string in the list\n",
        "    for i in range(len(strings)):\n",
        "        # Concatenate the string plus a space to res\n",
        "        res += strings[i] + ' '\n",
        "    # Then return everything besides the last space\n",
        "    return res[:-1]"
      ]
    },
    {
      "cell_type": "markdown",
      "metadata": {},
      "source": [
        "Define a function to do the opposite."
      ]
    },
    {
      "cell_type": "code",
      "execution_count": 21,
      "metadata": {},
      "outputs": [],
      "source": [
        "# Given a string which contains substrings separated by ' ',\n",
        "# it returns a list of words\n",
        "def str_to_list(s):\n",
        "    # Init res as an empty list\n",
        "    res = []\n",
        "    # Split the string by ' ' and for each substring\n",
        "    for word in s.split():\n",
        "        # Append the substring to res\n",
        "        res.append(word)\n",
        "    # Return the list of substrings\n",
        "    return res"
      ]
    },
    {
      "cell_type": "markdown",
      "metadata": {},
      "source": [
        "Declare a function which returns a list of n dictionaries, one for each n up to a fixed max, which contain the information about the frequencies for each n-gram."
      ]
    },
    {
      "cell_type": "code",
      "execution_count": 22,
      "metadata": {},
      "outputs": [],
      "source": [
        "# Create a list of n dictionaries, one for all the possible n-grams, with n in [1, max]\n",
        "# Each n-dictionary will map each n-gram to a list with the absolute frequency in [0]\n",
        "# and then the index of the documents in which it was found once at least,\n",
        "# followed by the relative frequency (e.g. [25, 1, 20, 2, 1, 3, 4])\n",
        "def create_list_of_dict_global(max):\n",
        "    # Init an empty list of dictionaries\n",
        "    list_dict=[]\n",
        "\n",
        "    # For each n in [1, max], append an empty dictionary to the list\n",
        "    for n in range(max):\n",
        "        list_dict.append({})\n",
        "\n",
        "    # For each index of a document in the corpus\n",
        "    for i in range(corpus_len):\n",
        "        # For each index of a token in the document\n",
        "        for t in range(len(corpus[i])):\n",
        "            # For each n in [1, max]\n",
        "            for n in range(1, len(list_dict)+1):\n",
        "                # If the document is not over (there is still space for an n-gram)\n",
        "                if ( t + n ) <= len(corpus[i]) :\n",
        "                    # If the n-gram is not yet in the n-dictionary\n",
        "                    if not ( list_to_str(corpus[i][t : t+n]) in list_dict[n-1].keys() ) :\n",
        "                        # Associate to the new n-gram an empty list\n",
        "                        list_dict[n-1][list_to_str(corpus[i][t : t+n])] = []\n",
        "                        # Set the frequency to 1 in position [0]\n",
        "                        list_dict[n-1][list_to_str(corpus[i][t : t+n])].append(1)\n",
        "                        # And then append the index of the current document\n",
        "                        list_dict[n-1][list_to_str(corpus[i][t : t+n])].append(i)\n",
        "                        # and set the relative frequency to 1\n",
        "                        list_dict[n-1][list_to_str(corpus[i][t : t+n])].append(1)\n",
        "                    else:\n",
        "                        # Add one to the frequency of the n-gram\n",
        "                        list_dict[n-1][list_to_str(corpus[i][t : t+n])][0] += 1\n",
        "                        # And if the last document in which this n-gram was found\n",
        "                        # is still the current one \n",
        "                        if list_dict[n-1][list_to_str(corpus[i][t : t+n])][-2] == i :\n",
        "                            # Just increment the relative frequency\n",
        "                            list_dict[n-1][list_to_str(corpus[i][t : t+n])][-1] += 1\n",
        "                        # Otherwise\n",
        "                        else:\n",
        "                            # Append the new (current) document\n",
        "                            list_dict[n-1][list_to_str(corpus[i][t : t+n])].append(i)\n",
        "                            # and set the relative frequency to 1\n",
        "                            list_dict[n-1][list_to_str(corpus[i][t : t+n])].append(1)\n",
        "    # Then return the list of dictionaries\n",
        "    return list_dict"
      ]
    },
    {
      "cell_type": "markdown",
      "metadata": {},
      "source": [
        "Pick a max value for n. Remember that if you care about the 7-grams you need the 8-grams to be computed."
      ]
    },
    {
      "cell_type": "code",
      "execution_count": 23,
      "metadata": {},
      "outputs": [],
      "source": [
        "max_n = 8"
      ]
    },
    {
      "cell_type": "markdown",
      "metadata": {},
      "source": [
        "Create a dictionary with the above function."
      ]
    },
    {
      "cell_type": "code",
      "execution_count": 24,
      "metadata": {
        "colab": {
          "base_uri": "https://localhost:8080/"
        },
        "id": "409mbD-jgrzf",
        "outputId": "ddba2b7f-67d6-4bbd-b564-1553d9de5bf7"
      },
      "outputs": [],
      "source": [
        "list_of_ngrams_info_dictionaries = create_list_of_dict_global(max_n)"
      ]
    },
    {
      "cell_type": "markdown",
      "metadata": {},
      "source": [
        "Show how many n-grams for each value of n."
      ]
    },
    {
      "cell_type": "code",
      "execution_count": 25,
      "metadata": {},
      "outputs": [
        {
          "name": "stdout",
          "output_type": "stream",
          "text": [
            "N-grams of length 1\n",
            "149865\n",
            "N-grams of length 2\n",
            "830902\n",
            "N-grams of length 3\n",
            "1555746\n",
            "N-grams of length 4\n",
            "1876677\n",
            "N-grams of length 5\n",
            "1967364\n",
            "N-grams of length 6\n",
            "1989746\n",
            "N-grams of length 7\n",
            "1994778\n",
            "N-grams of length 8\n",
            "1995258\n"
          ]
        }
      ],
      "source": [
        "for n in range(len(list_of_ngrams_info_dictionaries)):\n",
        "    print(\"N-grams of length\", n+1)\n",
        "    print(len(list_of_ngrams_info_dictionaries[n]))"
      ]
    },
    {
      "cell_type": "markdown",
      "metadata": {},
      "source": [
        "Get the list of all the absolute frequencies."
      ]
    },
    {
      "cell_type": "code",
      "execution_count": 26,
      "metadata": {},
      "outputs": [],
      "source": [
        "# Estrai tutte le frequenze assolute dei monogrammi\n",
        "frequencies = [value[0] for key, value in list_of_ngrams_info_dictionaries[0].items()]\n",
        "\n",
        "# Ordina le frequenze in ordine decrescente\n",
        "sorted_freq = sorted(frequencies, reverse=True)"
      ]
    },
    {
      "cell_type": "markdown",
      "metadata": {},
      "source": [
        "Plot Zipf."
      ]
    },
    {
      "cell_type": "code",
      "execution_count": 41,
      "metadata": {},
      "outputs": [
        {
          "data": {
            "image/png": "[encoded data removed]",
            "text/plain": [
              "<Figure size 1000x600 with 1 Axes>"
            ]
          },
          "metadata": {},
          "output_type": "display_data"
        },
        {
          "name": "stdout",
          "output_type": "stream",
          "text": [
            "0.8145502363119796\n"
          ]
        }
      ],
      "source": [
        "def zipf(x, alpha):\n",
        "    return 126301 / np.power(x, alpha)\n",
        "\n",
        "# Define function to fit and plot with fit\n",
        "def plot_histogram_with_fit(frequencies, fun):\n",
        "    # Get indeces for x axis\n",
        "    indices = np.arange(1, len(frequencies) + 1)\n",
        "\n",
        "    # Fit\n",
        "    popt, _ = curve_fit(fun, indices, frequencies)\n",
        "\n",
        "    # Do histogram only plotting first 500 words\n",
        "    plt.figure(figsize=(10, 6))\n",
        "    plt.bar(indices[:500], frequencies[:500], color='black', edgecolor='black', label='Frequencies')\n",
        "\n",
        "    # Add fit to the plot\n",
        "    plt.plot(indices[:500], fun(indices, *popt)[:500], color='red', label='Fit f(1)/x^α')\n",
        "\n",
        "    # Add more info to the plot\n",
        "    plt.xlabel('Word rank')\n",
        "    plt.ylabel('Frequencies')\n",
        "    plt.legend()\n",
        "    plt.show()\n",
        "\n",
        "    # Print parameters\n",
        "    print(*popt)\n",
        "    \n",
        "# Plot\n",
        "plot_histogram_with_fit(sorted_freq, zipf)"
      ]
    },
    {
      "cell_type": "code",
      "execution_count": 42,
      "metadata": {},
      "outputs": [
        {
          "data": {
            "image/png": "[encoded data removed]",
            "text/plain": [
              "<Figure size 1000x600 with 1 Axes>"
            ]
          },
          "metadata": {},
          "output_type": "display_data"
        },
        {
          "name": "stdout",
          "output_type": "stream",
          "text": [
            "1.9492921860733383 6.296494432127077\n"
          ]
        }
      ],
      "source": [
        "def maldelbrot(x, alpha, beta):\n",
        "    #126301 is the frequency of the most used word\n",
        "    return 126301 * np.power(1 + beta, alpha) / np.power(x + beta, alpha)\n",
        "\n",
        "plot_histogram_with_fit(sorted_freq, maldelbrot)\n"
      ]
    }
  ],
  "metadata": {
    "accelerator": "GPU",
    "colab": {
      "collapsed_sections": [],
      "name": "project.ipynb",
      "provenance": []
    },
    "gpuClass": "standard",
    "kernelspec": {
      "display_name": "Python 3",
      "name": "python3"
    },
    "language_info": {
      "codemirror_mode": {
        "name": "ipython",
        "version": 3
      },
      "file_extension": ".py",
      "mimetype": "text/x-python",
      "name": "python",
      "nbconvert_exporter": "python",
      "pygments_lexer": "ipython3",
      "version": "3.12.3"
    }
  },
  "nbformat": 4,
  "nbformat_minor": 0
}
