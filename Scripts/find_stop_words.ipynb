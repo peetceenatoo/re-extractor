{
  "cells": [
    {
      "cell_type": "markdown",
      "metadata": {},
      "source": [
        "# **INITIALIZATION**"
      ]
    },
    {
      "cell_type": "markdown",
      "metadata": {},
      "source": [
        "Import libraries."
      ]
    },
    {
      "cell_type": "code",
      "execution_count": 1,
      "metadata": {
        "id": "GuTl2RIXgsQA"
      },
      "outputs": [],
      "source": [
        "# Library for reading and writing data to and from files\n",
        "import os\n",
        "# Library for getting dictionaries from data structures\n",
        "from collections import defaultdict\n",
        "import pandas as pd\n",
        "from collections import defaultdict"
      ]
    },
    {
      "cell_type": "markdown",
      "metadata": {},
      "source": [
        "Define paths."
      ]
    },
    {
      "cell_type": "code",
      "execution_count": 2,
      "metadata": {
        "id": "Z5sOc92TgsLE"
      },
      "outputs": [],
      "source": [
        "# Dataset directory\n",
        "corpus_directory='../Dataset/corpus2mw'"
      ]
    },
    {
      "cell_type": "markdown",
      "metadata": {},
      "source": [
        "To iterate the reading procedure, get the names of the documents in the dataset."
      ]
    },
    {
      "cell_type": "code",
      "execution_count": 3,
      "metadata": {},
      "outputs": [],
      "source": [
        "# Get a list with the names of the documents\n",
        "texts_names = os.listdir(corpus_directory)"
      ]
    },
    {
      "cell_type": "markdown",
      "metadata": {},
      "source": [
        "# **GET TOKENS**"
      ]
    },
    {
      "cell_type": "markdown",
      "metadata": {},
      "source": [
        "First, define the special characters to be separated from each word."
      ]
    },
    {
      "cell_type": "code",
      "execution_count": 4,
      "metadata": {
        "id": "HZYLcWMUgsNo"
      },
      "outputs": [],
      "source": [
        "# List of characters\n",
        "specialchars = [';', ':', '!', '?', '<', '>', '&', ')', '(', ']', '[', ',', '.', '\"', '%', '$ ', '=', '}', '{', '-']"
      ]
    },
    {
      "cell_type": "markdown",
      "metadata": {},
      "source": [
        "And define the function which separates the special characters from each word, assuming they can only be before or after each word."
      ]
    },
    {
      "cell_type": "code",
      "execution_count": 5,
      "metadata": {
        "id": "mvTiLGhygsIh"
      },
      "outputs": [],
      "source": [
        "def token(w):\n",
        "    # Init the empty list of tokens\n",
        "    res = []\n",
        "\n",
        "    # If the length is 1, add the character whatever it is\n",
        "    if len(w) == 1:\n",
        "        res.append(w)\n",
        "    \n",
        "    # Otherwise (if it's at least two characters)\n",
        "    else:\n",
        "        # If the first character is special, add it to the list and remove it from the word\n",
        "        if w[0] in specialchars:\n",
        "            res.append(w[0])\n",
        "            w = w[1:]\n",
        "        \n",
        "        # Now, if the length became 1 because of that, for the same reason as before, add the character whatever it is\n",
        "        if len(w) == 1:\n",
        "            res.append(w)\n",
        "        # Otherwise (if it's at least two characters), both if I had removed the first or not\n",
        "        # Check whether the last character is special\n",
        "        elif w[-1] in specialchars:\n",
        "            res.append(w[:-1])\n",
        "            res.append(w[-1])\n",
        "        # or not\n",
        "        else:\n",
        "            res.append(w)\n",
        "        \n",
        "    # Return the list of tokens\n",
        "    return res"
      ]
    },
    {
      "cell_type": "markdown",
      "metadata": {},
      "source": [
        "For each document, for each word (in each line), if either the last or the first character are specialchars, then split in multiple tokens."
      ]
    },
    {
      "cell_type": "code",
      "execution_count": 6,
      "metadata": {},
      "outputs": [],
      "source": [
        "corpus = []\n",
        "corpus_lens = []\n",
        "\n",
        "# For each document in the directory\n",
        "for text in texts_names:\n",
        "\n",
        "    # Init a temp empty list for the words in the current document\n",
        "    words = []\n",
        "\n",
        "    # Open the document\n",
        "    with open(corpus_directory + '/' + text, 'r', errors='ignore') as file:\n",
        "\n",
        "        # For each line\n",
        "        for line in file:\n",
        "            # For each word in the line\n",
        "            for word in line.split():\n",
        "                # Tokenize it\n",
        "                aux = token(word)\n",
        "                # And add each token to the list of words\n",
        "                for t in aux:\n",
        "                    words.append(t.lower())\n",
        "    # Then append the list of tokens for the document in the corpus list\n",
        "    corpus.append(words)\n",
        "    corpus_lens.append(len(words))"
      ]
    },
    {
      "cell_type": "code",
      "execution_count": 42,
      "metadata": {},
      "outputs": [],
      "source": []
    },
    {
      "cell_type": "markdown",
      "metadata": {},
      "source": [
        "# **STOP WORDS**"
      ]
    },
    {
      "cell_type": "markdown",
      "metadata": {},
      "source": [
        "Define the function to find the stop words."
      ]
    },
    {
      "cell_type": "code",
      "execution_count": 46,
      "metadata": {},
      "outputs": [],
      "source": [
        "# Returns the extracted stop words\n",
        "def get_stop_words(param=4,d=1):\n",
        "\n",
        "    # Initialize a dictionary for sets\n",
        "    neighbour_counts = defaultdict(set)\n",
        "\n",
        "    # For each document in the corpus\n",
        "    for doc in corpus:\n",
        "        # For each word in the document\n",
        "        for idx in range(len(doc)):\n",
        "            # If the word is not the first word, add the previous word to its set of neighbours\n",
        "            if idx > 0:\n",
        "                neighbour_counts[doc[idx]].add(doc[idx - 1])\n",
        "            # If the word is not the last word, add the next word to its set of neighbours\n",
        "            if idx < len(doc) - 1:\n",
        "                neighbour_counts[doc[idx]].add(doc[idx + 1])\n",
        "\n",
        "    # Convert the sets of neighbours to counts of unique neighbours\n",
        "    for word, neighbours in neighbour_counts.items():\n",
        "        neighbour_counts[word] = len(neighbours)\n",
        "\n",
        "    # Sort the words by their counts of unique neighbours\n",
        "    neighbour_counts = sorted(neighbour_counts.items(), key=lambda item: item[1], reverse=True)\n",
        "\n",
        "    # Remove from the neighbour_counts list the words that are special chars\n",
        "    for special in specialchars:\n",
        "        neighbour_counts = [tuple for tuple in neighbour_counts if tuple[0] != special]\n",
        "    \n",
        "    # Now look for the elbow point in the list\n",
        "    elbow_point_index = 0\n",
        "    # Iterate over the list (besides last word) to find the elbow point\n",
        "    for index in range(len(neighbour_counts) - 1 - param):\n",
        "        # Get the difference between the count for the current word and the next\n",
        "        if abs(neighbour_counts[index][1] - neighbour_counts[index + param][1]) * d < param:\n",
        "            elbow_point_index = index - 1\n",
        "            break\n",
        "    \n",
        "    # Get the couples corresponding to all the words up to the elbow (highest num of neighbours)\n",
        "    stop_word_counts = neighbour_counts[:elbow_point_index+1]\n",
        "    # Get the stop words\n",
        "    stop_words = [tuple[0] for tuple in stop_word_counts]\n",
        "    \n",
        "    # Return the stop words and the filtered expressions\n",
        "    return stop_words"
      ]
    },
    {
      "cell_type": "code",
      "execution_count": 48,
      "metadata": {},
      "outputs": [],
      "source": [
        "def neighbour_counts():\n",
        "\n",
        "    # Initialize a dictionary for sets\n",
        "    neighbour_counts = defaultdict(set)\n",
        "\n",
        "    # For each document in the corpus\n",
        "    for doc in corpus:\n",
        "        # For each word in the document\n",
        "        for idx in range(len(doc)):\n",
        "            # If the word is not the first word, add the previous word to its set of neighbours\n",
        "            if idx > 0:\n",
        "                neighbour_counts[doc[idx]].add(doc[idx - 1])\n",
        "            # If the word is not the last word, add the next word to its set of neighbours\n",
        "            if idx < len(doc) - 1:\n",
        "                neighbour_counts[doc[idx]].add(doc[idx + 1])\n",
        "\n",
        "    # Convert the sets of neighbours to counts of unique neighbours\n",
        "    for word, neighbours in neighbour_counts.items():\n",
        "        neighbour_counts[word] = len(neighbours)\n",
        "\n",
        "    # Sort the words by their counts of unique neighbours\n",
        "    neighbour_counts = sorted(neighbour_counts.items(), key=lambda item: item[1], reverse=True)\n",
        "\n",
        "    # Remove from the neighbour_counts list the words that are special chars\n",
        "    for special in specialchars:\n",
        "        neighbour_counts = [tuple for tuple in neighbour_counts if tuple[0] != special] \n",
        "\n",
        "    return neighbour_counts"
      ]
    },
    {
      "cell_type": "code",
      "execution_count": 49,
      "metadata": {},
      "outputs": [],
      "source": [
        "nei = neighbour_counts()"
      ]
    },
    {
      "cell_type": "markdown",
      "metadata": {},
      "source": [
        "And compute them."
      ]
    },
    {
      "cell_type": "code",
      "execution_count": 26,
      "metadata": {},
      "outputs": [
        {
          "name": "stdout",
          "output_type": "stream",
          "text": [
            "[('the', 28312), ('and', 26112), ('of', 20895), ('in', 16628), ('to', 12515), ('a', 11378), ('was', 8664), ('is', 8165), ('for', 7703), ('by', 7589)]\n",
            "[('the', 28312), ('and', 26112), ('of', 20895), ('in', 16628), ('to', 12515), ('a', 11378), ('was', 8664), ('is', 8165), ('for', 7703), ('by', 7589)]\n",
            "[('the', 28312), ('and', 26112), ('of', 20895), ('in', 16628), ('to', 12515), ('a', 11378), ('was', 8664), ('is', 8165), ('for', 7703), ('by', 7589)]\n",
            "[('the', 28312), ('and', 26112), ('of', 20895), ('in', 16628), ('to', 12515), ('a', 11378), ('was', 8664), ('is', 8165), ('for', 7703), ('by', 7589)]\n",
            "[('the', 28312), ('and', 26112), ('of', 20895), ('in', 16628), ('to', 12515), ('a', 11378), ('was', 8664), ('is', 8165), ('for', 7703), ('by', 7589)]\n",
            "[('the', 28312), ('and', 26112), ('of', 20895), ('in', 16628), ('to', 12515), ('a', 11378), ('was', 8664), ('is', 8165), ('for', 7703), ('by', 7589)]\n",
            "[('the', 28312), ('and', 26112), ('of', 20895), ('in', 16628), ('to', 12515), ('a', 11378), ('was', 8664), ('is', 8165), ('for', 7703), ('by', 7589)]\n",
            "[('the', 28312), ('and', 26112), ('of', 20895), ('in', 16628), ('to', 12515), ('a', 11378), ('was', 8664), ('is', 8165), ('for', 7703), ('by', 7589)]\n",
            "[('the', 28312), ('and', 26112), ('of', 20895), ('in', 16628), ('to', 12515), ('a', 11378), ('was', 8664), ('is', 8165), ('for', 7703), ('by', 7589)]\n",
            "[('the', 28312), ('and', 26112), ('of', 20895), ('in', 16628), ('to', 12515), ('a', 11378), ('was', 8664), ('is', 8165), ('for', 7703), ('by', 7589)]\n",
            "[('the', 28312), ('and', 26112), ('of', 20895), ('in', 16628), ('to', 12515), ('a', 11378), ('was', 8664), ('is', 8165), ('for', 7703), ('by', 7589)]\n",
            "[('the', 28312), ('and', 26112), ('of', 20895), ('in', 16628), ('to', 12515), ('a', 11378), ('was', 8664), ('is', 8165), ('for', 7703), ('by', 7589)]\n",
            "[('the', 28312), ('and', 26112), ('of', 20895), ('in', 16628), ('to', 12515), ('a', 11378), ('was', 8664), ('is', 8165), ('for', 7703), ('by', 7589)]\n",
            "[('the', 28312), ('and', 26112), ('of', 20895), ('in', 16628), ('to', 12515), ('a', 11378), ('was', 8664), ('is', 8165), ('for', 7703), ('by', 7589)]\n",
            "[('the', 28312), ('and', 26112), ('of', 20895), ('in', 16628), ('to', 12515), ('a', 11378), ('was', 8664), ('is', 8165), ('for', 7703), ('by', 7589)]\n",
            "[('the', 28312), ('and', 26112), ('of', 20895), ('in', 16628), ('to', 12515), ('a', 11378), ('was', 8664), ('is', 8165), ('for', 7703), ('by', 7589)]\n",
            "[('the', 28312), ('and', 26112), ('of', 20895), ('in', 16628), ('to', 12515), ('a', 11378), ('was', 8664), ('is', 8165), ('for', 7703), ('by', 7589)]\n",
            "[('the', 28312), ('and', 26112), ('of', 20895), ('in', 16628), ('to', 12515), ('a', 11378), ('was', 8664), ('is', 8165), ('for', 7703), ('by', 7589)]\n",
            "[('the', 28312), ('and', 26112), ('of', 20895), ('in', 16628), ('to', 12515), ('a', 11378), ('was', 8664), ('is', 8165), ('for', 7703), ('by', 7589)]\n",
            "[('the', 28312), ('and', 26112), ('of', 20895), ('in', 16628), ('to', 12515), ('a', 11378), ('was', 8664), ('is', 8165), ('for', 7703), ('by', 7589)]\n",
            "[('the', 28312), ('and', 26112), ('of', 20895), ('in', 16628), ('to', 12515), ('a', 11378), ('was', 8664), ('is', 8165), ('for', 7703), ('by', 7589)]\n",
            "[('the', 28312), ('and', 26112), ('of', 20895), ('in', 16628), ('to', 12515), ('a', 11378), ('was', 8664), ('is', 8165), ('for', 7703), ('by', 7589)]\n",
            "[('the', 28312), ('and', 26112), ('of', 20895), ('in', 16628), ('to', 12515), ('a', 11378), ('was', 8664), ('is', 8165), ('for', 7703), ('by', 7589)]\n",
            "[('the', 28312), ('and', 26112), ('of', 20895), ('in', 16628), ('to', 12515), ('a', 11378), ('was', 8664), ('is', 8165), ('for', 7703), ('by', 7589)]\n",
            "[('the', 28312), ('and', 26112), ('of', 20895), ('in', 16628), ('to', 12515), ('a', 11378), ('was', 8664), ('is', 8165), ('for', 7703), ('by', 7589)]\n",
            "[('the', 28312), ('and', 26112), ('of', 20895), ('in', 16628), ('to', 12515), ('a', 11378), ('was', 8664), ('is', 8165), ('for', 7703), ('by', 7589)]\n",
            "[('the', 28312), ('and', 26112), ('of', 20895), ('in', 16628), ('to', 12515), ('a', 11378), ('was', 8664), ('is', 8165), ('for', 7703), ('by', 7589)]\n",
            "[('the', 28312), ('and', 26112), ('of', 20895), ('in', 16628), ('to', 12515), ('a', 11378), ('was', 8664), ('is', 8165), ('for', 7703), ('by', 7589)]\n",
            "[('the', 28312), ('and', 26112), ('of', 20895), ('in', 16628), ('to', 12515), ('a', 11378), ('was', 8664), ('is', 8165), ('for', 7703), ('by', 7589)]\n",
            "[('the', 28312), ('and', 26112), ('of', 20895), ('in', 16628), ('to', 12515), ('a', 11378), ('was', 8664), ('is', 8165), ('for', 7703), ('by', 7589)]\n",
            "param      1    2    3    4    5    6\n",
            "d                                    \n",
            "0.333333  26   76   83   94   94  119\n",
            "0.500000  40   84   94   94  121  121\n",
            "1.000000  61   84  123  154  154  154\n",
            "2.000000  61  224  176  250  176  250\n",
            "3.000000  61  224  284  250  284  284\n"
          ]
        }
      ],
      "source": [
        "# Define the ranges for param and d\n",
        "param_values = range(1, 7)\n",
        "d_values = [1/3, 1/2, 1, 2, 3]\n",
        "\n",
        "# Initialize an empty list to store the results\n",
        "results = []\n",
        "\n",
        "# Iterate over all combinations of param and d\n",
        "for param in param_values:\n",
        "    for d in d_values:\n",
        "        # Get the stop words for the current combination of param and d\n",
        "        stop_words = get_stop_words(param, d)\n",
        "        # Append the result as a tuple (param, d, number of stop words)\n",
        "        results.append((param, d, len(stop_words)))\n",
        "\n",
        "# Create a DataFrame from the results\n",
        "df = pd.DataFrame(results, columns=['param', 'd', 'num_stop_words'])\n",
        "\n",
        "# Pivot the DataFrame to create the desired table\n",
        "pivot_df = df.pivot(index='d', columns='param', values='num_stop_words')\n",
        "\n",
        "# Display the pivoted DataFrame\n",
        "print(pivot_df)"
      ]
    },
    {
      "cell_type": "code",
      "execution_count": 32,
      "metadata": {},
      "outputs": [],
      "source": [
        "import numpy as np\n",
        "import plotly.graph_objs as go\n",
        "from scipy.interpolate import griddata\n",
        "\n",
        "# Define x, y, z values\n",
        "param = np.arange(1, 7)\n",
        "d = np.array(d_values)\n",
        "\n",
        "stop_words = np.array([\n",
        "    [26, 76, 83, 94, 94, 119],\n",
        "    [40, 84, 94, 94, 121, 121],\n",
        "    [61, 84, 123, 154, 154, 154],\n",
        "    [61, 224, 176, 250, 176, 250],\n",
        "    [61, 224, 284, 250, 284, 284]\n",
        "])\n",
        "\n",
        "# Create meshgrid for x and y\n",
        "X, Y = np.meshgrid(param, d)\n",
        "\n",
        "# Interpolate z values to complete grid\n",
        "X_new = np.linspace(param.min(), param.max(), 100)\n",
        "Y_new = np.linspace(d.min(), d.max(), 100)\n",
        "X_new, Y_new = np.meshgrid(X_new, Y_new)\n",
        "Z_new = griddata((X.flatten(), Y.flatten()), stop_words.flatten(), (X_new, Y_new), method='cubic')\n",
        "\n",
        "# Scatter plot\n",
        "scatter = go.Scatter3d(\n",
        "    x=X.flatten(),\n",
        "    y=Y.flatten(),\n",
        "    z=stop_words.flatten(),\n",
        "    mode='markers',\n",
        "    marker=dict(\n",
        "        size=4,\n",
        "        color='rgb(23, 190, 207)',\n",
        "        opacity=0.8\n",
        "    )\n",
        ")\n",
        "\n",
        "# Surface plot\n",
        "surface = go.Surface(\n",
        "    x=X_new,\n",
        "    y=Y_new,\n",
        "    z=Z_new,\n",
        "    colorscale='Viridis',\n",
        ")\n",
        "\n",
        "# Add point (4,1,F(4,1))\n",
        "point = go.Scatter3d(\n",
        "    x=[4],\n",
        "    y=[1],\n",
        "    z=[154],\n",
        "    mode='markers',\n",
        "    marker=dict(\n",
        "        size=10,\n",
        "        color='red',\n",
        "        opacity=0.8\n",
        "    )\n",
        ")\n",
        "\n",
        "# Layout\n",
        "layout = go.Layout(\n",
        "    scene=dict(\n",
        "        xaxis=dict(title='param'),\n",
        "        yaxis=dict(title='d'),\n",
        "        zaxis=dict(title='Number of stop words'),\n",
        "        aspectratio=dict(x=1, y=1, z=0.7),\n",
        "        camera=dict(eye=dict(x=1.5, y=1.5, z=1.5))\n",
        "    )\n",
        ")\n",
        "\n",
        "# Create figure\n",
        "fig = go.Figure(data=[scatter, surface, point], layout=layout)\n",
        "\n",
        "\n",
        "\n"
      ]
    },
    {
      "cell_type": "code",
      "execution_count": 33,
      "metadata": {},
      "outputs": [
        {
          "name": "stdout",
          "output_type": "stream",
          "text": [
            "Il file HTML è stato salvato con successo. Puoi aprirlo nel tuo browser.\n"
          ]
        }
      ],
      "source": [
        "import plotly.io as pio\n",
        "\n",
        "# Salva il grafico come file HTML\n",
        "pio.write_html(fig, '3d_plot_grande.html')\n",
        "\n",
        "# Visualizza il percorso del file HTML\n",
        "print(\"Il file HTML è stato salvato con successo. Puoi aprirlo nel tuo browser.\")"
      ]
    },
    {
      "cell_type": "code",
      "execution_count": null,
      "metadata": {},
      "outputs": [
        {
          "name": "stdout",
          "output_type": "stream",
          "text": [
            "[('the', 252231), ('of', 120104), ('and', 102111), ('in', 99559), ('a', 73020), ('to', 72052), ('was', 42182), ('is', 35760), ('for', 29332), ('on', 28481)]\n",
            "242\n",
            "['the', 'of', 'and', 'in', 'a', 'to', 'was', 'is', 'for', 'on', 'as', 'with', 'by', 'he', 'that', 'at', 'from', 'his', 'it', 'an', 'were', 'are', 'which', 'doc', 'this', 'also', 'be', 'or', 'has', 'had', 'first', 'their', 'one', 'but', 'its', 'after', 'not', 'new', 'they', 'who', 'have', 'two', 'her', 'she', 'been', 'other', 'when', 'during', 'there', 'into', 'all', 'time', 'more', 'only', 'may', 'most', 'school', 'years', 'would', 'over', 'some', 'out', 'such', 'national', 'up', 'him', 'later', 'about', 'used', 'where', 'between', 'world', 'then', 'city', 'many', 'can', 'made', 'three', 'while', 'state', 'year', 'under', 'known', 'part', 'these', 'united', 'than', 'university', 'second', 'being', 'became', 'no', 'american', 'season', 'before', 'both', 'team', 'states', 'through', 'however', 'war', 'including', 'early', 'born', 'film', 'them', 'against', 'well', 'family', 'since', 'will', 'until', 'history', 'area', 'series', 'high', 'south', 'album', 'name', 'number', 'group', 'people', 'work', 'de', 'north', 'district', 'played', 'called', 'each', 'following', 'music', 'i', 'released', 'several', 'county', 'life', 'â€“', 'league', 'population', 'four', 'john', 'company', 'same', 'house', 'now', 'won', 'government', 'career', 'game', 'any', 'use', 'so', 'if', '1', 'town', 'international', 'end', 'system', 'found', 'september', 'because', 'located', 'general', 'march', 'west', 'home', 'began', 'age', 'july', 'june', 'august', 'october', 'station', 'named', 'january', '2010', 'around', 'member', 'day', 'april', 'river', 'york', 'band', 'british', '2008', 'place', 'public', '2011', 'along', 'line', 'based', 'another', 'college', 'due', 'like', 'song', 'did', 'back', 'held', '2009', 'could', 'former', 'best', 'local', 'although', 'received', 'club', 'church', 'very', 'november', 'took', 'football', 'east', 'december', 'members', 'century', 'show', '2012', 'major', 'village', 'service', '2', 'small', 'single', 'final', 'include', '2007', '2006', 'long', 'within', 'party', 'own', 'built', 'games', '2013', 'last', 'death', 'still', 'five', 'set', 'order', 'february']\n"
          ]
        }
      ],
      "source": [
        "# Get stop words\n",
        "stop_words = get_stop_words()\n",
        "print(len(stop_words))\n",
        "print(stop_words)\n",
        "\n",
        "# And write them all on file\n",
        "with open('../Output/stop_words.txt', 'w') as f:\n",
        "    for word in stop_words:\n",
        "        f.write(\"\\\"\")\n",
        "        f.write(word)\n",
        "        f.write(\"\\\"\")\n",
        "        f.write(', ')\n",
        "del corpus"
      ]
    },
    {
      "cell_type": "code",
      "execution_count": null,
      "metadata": {},
      "outputs": [
        {
          "data": {
            "image/png": "[encoded data removed]",
            "text/plain": [
              "<Figure size 1000x600 with 1 Axes>"
            ]
          },
          "metadata": {},
          "output_type": "display_data"
        }
      ],
      "source": [
        "import matplotlib.pyplot as plt\n",
        "\n",
        "# Dati forniti\n",
        "data = [('the', 252231), ('of', 120104), ('and', 102111), ('in', 99559), ('a', 73020), ('to', 72052), ('was', 42182), ('is', 35760), ('for', 29332), ('on', 28481)]\n",
        "\n",
        "# Estrai valori e etichette\n",
        "labels, values = zip(*data)\n",
        "\n",
        "# Creazione del plot\n",
        "plt.figure(figsize=(10, 6))  # Imposta dimensioni della figura\n",
        "plt.bar(range(1, len(labels) + 1), values, tick_label=labels)  # Crea un grafico a barre\n",
        "plt.xlabel('Words')  # Etichetta dell'asse x\n",
        "plt.ylabel('Neighbours')  # Etichetta dell'asse y\n",
        "plt.title('Neighbours of the most common stop words')  # Titolo del grafico\n",
        "plt.xticks(rotation=45, ha='right')  # Ruota le etichette sull'asse x per una migliore leggibilità\n",
        "plt.tight_layout()  # Imposta il layout in modo che le etichette non si sovrappongano\n",
        "plt.show()  # Mostra il grafico\n"
      ]
    },
    {
      "cell_type": "code",
      "execution_count": 35,
      "metadata": {},
      "outputs": [
        {
          "data": {
            "image/png": "[encoded data removed]",
            "text/plain": [
              "<Figure size 1000x600 with 1 Axes>"
            ]
          },
          "metadata": {},
          "output_type": "display_data"
        }
      ],
      "source": [
        "import matplotlib.pyplot as plt\n",
        "\n",
        "# Define the data\n",
        "words = ['the', 'and', 'of', 'in', 'to', 'a', 'was', 'is', 'for', 'by']\n",
        "frequencies = [28312, 26112, 20895, 16628, 12515, 11378, 8664, 8165, 7703, 7589]\n",
        "\n",
        "# Create the histogram\n",
        "plt.figure(figsize=(10, 6))\n",
        "plt.bar(words, frequencies, color='darkgreen')\n",
        "plt.xlabel('Words')\n",
        "plt.ylabel('Neighbours')\n",
        "plt.title('Top 10 stop words')\n",
        "plt.show()\n"
      ]
    },
    {
      "cell_type": "code",
      "execution_count": 57,
      "metadata": {},
      "outputs": [
        {
          "name": "stdout",
          "output_type": "stream",
          "text": [
            "[28312, 26112, 20895, 16628, 12515, 11378, 8664, 8165, 7703, 7589, 7291, 6346, 6232, 5892, 5794, 5091, 4807, 4318, 4036, 3920, 3842, 2891, 2683, 2515, 2465, 2366, 2188, 2186, 2099, 1962, 1927, 1870, 1826, 1746, 1717, 1712, 1697, 1693, 1660, 1624, 1573, 1572, 1562, 1553, 1381, 1372, 1369, 1296, 1283, 1279, 1273, 1233, 1230, 1222, 1204, 1203, 1160, 1154, 1116, 1104, 1103, 1070, 1070, 1061, 1060, 1038, 1027, 1021, 985, 982, 974, 970, 949, 949, 936, 923, 900, 897, 896, 891, 877, 873, 852, 845, 839, 839, 838, 829, 808, 805, 802, 792, 791, 783, 770, 770, 768, 766, 764, 758, 726, 720, 716, 696, 691, 691, 681, 680, 680, 676, 659, 653, 645, 643, 635, 630, 628, 627, 615, 608, 608, 604, 600, 597, 597, 596, 595, 593, 591, 583, 570, 569, 568, 566, 556, 552, 546, 545, 541, 540, 539, 537, 536, 534, 529, 523, 520, 512, 509, 506, 506, 505, 504, 502, 499, 499, 498, 496, 496, 495, 494, 494, 491, 490, 487, 487, 485, 483, 481, 480, 479, 478, 476, 475, 475, 468, 465, 465, 464, 464, 463, 463, 458, 457, 454, 450, 448, 445, 439, 434, 432, 432, 430, 429, 427, 426, 426, 425, 425, 423, 422, 421, 420, 420, 418, 418, 417, 416, 416, 414, 414, 412, 412, 411, 409, 408, 405, 404, 403, 402, 400, 400, 398, 397, 393, 393, 393, 392, 391, 390, 390, 389, 386, 386, 384, 383, 381, 378, 378, 378, 376, 375, 371, 370, 369, 368, 367, 365, 365, 365, 363, 363, 362, 362, 362, 361, 361, 360, 359, 359, 356, 355, 354, 354, 353, 353, 352, 352, 351, 350, 350, 350, 349, 349, 348, 346, 345, 345, 344, 344, 343, 342, 342, 341, 340, 340, 340, 340, 339, 339, 339, 339, 338, 338, 336, 335, 333, 332, 330, 327, 325, 324, 323, 323, 322, 321, 321, 320, 320, 319, 318, 318, 318, 317, 316, 316, 316, 315, 315, 315, 312, 312, 311, 311, 310, 309, 309, 308, 308, 307, 307, 307, 307, 306, 306, 305, 305, 305, 305, 304, 302, 302, 301, 301, 300, 299, 299, 299, 299, 299, 298, 298, 296, 296, 295, 295, 294, 293, 293, 292, 292, 292, 290, 289, 289, 288, 287, 287, 287, 286, 285, 285, 284, 284, 284, 283, 282, 282, 282, 281, 281, 281, 281, 281, 280, 280, 280, 279, 279, 279, 279, 279, 279, 279, 277, 277, 277, 276, 276, 276, 275, 274, 274, 274, 273, 273, 273, 272, 272, 271, 271, 270, 270, 270, 270, 269, 269, 268, 268, 267, 267, 267, 267, 266, 266, 266, 265, 265, 265, 264, 264, 264, 263, 262, 262, 262, 262, 262, 262, 261, 261, 261, 261, 261, 260, 260, 260, 260, 260, 259, 259, 259, 258, 257, 257, 257, 257, 256, 256, 256, 256, 254, 254, 254, 253, 253, 253, 253, 253, 252, 252, 252, 251, 251, 251, 251, 250, 250, 250, 250, 250, 250, 249, 249, 248, 248, 248, 247, 247, 247, 247, 247, 247, 246, 246, 246, 245, 245, 245, 245]\n"
          ]
        },
        {
          "data": {
            "image/png": "[encoded data removed]",
            "text/plain": [
              "<Figure size 1000x600 with 1 Axes>"
            ]
          },
          "metadata": {},
          "output_type": "display_data"
        }
      ],
      "source": [
        "# Estrai solo i valori\n",
        "values = [value for key, value in nei[:500]]\n",
        "\n",
        "print(values)\n",
        "\n",
        "# Crea l'istogramma\n",
        "plt.figure(figsize=(10, 6))\n",
        "plt.bar(range(len(values)), values, color='skyblue')\n",
        "plt.xlabel('Words rank')\n",
        "plt.ylabel('Neighbours')\n",
        "plt.show()"
      ]
    }
  ],
  "metadata": {
    "accelerator": "GPU",
    "colab": {
      "collapsed_sections": [],
      "name": "project.ipynb",
      "provenance": []
    },
    "gpuClass": "standard",
    "kernelspec": {
      "display_name": "Python 3",
      "name": "python3"
    },
    "language_info": {
      "codemirror_mode": {
        "name": "ipython",
        "version": 3
      },
      "file_extension": ".py",
      "mimetype": "text/x-python",
      "name": "python",
      "nbconvert_exporter": "python",
      "pygments_lexer": "ipython3",
      "version": "3.12.3"
    }
  },
  "nbformat": 4,
  "nbformat_minor": 0
}
